{
  "nbformat": 4,
  "nbformat_minor": 0,
  "metadata": {
    "colab": {
      "name": "Churn Modelling Artificial Neural Network.ipynb",
      "private_outputs": true,
      "provenance": [],
      "toc_visible": true,
      "mount_file_id": "13WZYgpgnY65QI_CJ-WjFae9y1KKGmhCE",
      "authorship_tag": "ABX9TyO1ZmiEZBBWMFNkuvhAoFhS",
      "include_colab_link": true
    },
    "kernelspec": {
      "name": "python3",
      "display_name": "Python 3"
    },
    "accelerator": "GPU"
  },
  "cells": [
    {
      "cell_type": "markdown",
      "metadata": {
        "id": "view-in-github",
        "colab_type": "text"
      },
      "source": [
        "<a href=\"https://colab.research.google.com/github/Priyam-27/Machine-learning/blob/master/Churn_Modelling_Artificial_Neural_Network.ipynb\" target=\"_parent\"><img src=\"https://colab.research.google.com/assets/colab-badge.svg\" alt=\"Open In Colab\"/></a>"
      ]
    },
    {
      "cell_type": "code",
      "metadata": {
        "id": "seTdDEs3QPAv"
      },
      "source": [
        ""
      ],
      "execution_count": null,
      "outputs": []
    },
    {
      "cell_type": "markdown",
      "metadata": {
        "id": "s1wOXda2QpG9"
      },
      "source": [
        "# New Section"
      ]
    },
    {
      "cell_type": "markdown",
      "metadata": {
        "id": "g5gz3UirTYbD"
      },
      "source": [
        "####Test whether GPU is working or not"
      ]
    },
    {
      "cell_type": "code",
      "metadata": {
        "id": "TwdReMRiS8wR"
      },
      "source": [
        "import tensorflow as tf\n",
        "tf.test.gpu_device_name()"
      ],
      "execution_count": null,
      "outputs": []
    },
    {
      "cell_type": "markdown",
      "metadata": {
        "id": "cdae6DJ2TgRZ"
      },
      "source": [
        "#### Which GPU is working"
      ]
    },
    {
      "cell_type": "code",
      "metadata": {
        "id": "gqx4K4m6TMkg"
      },
      "source": [
        "from tensorflow.python.client import device_lib\n",
        "device_lib.list_local_devices()"
      ],
      "execution_count": null,
      "outputs": []
    },
    {
      "cell_type": "markdown",
      "metadata": {
        "id": "QZjEviC2UQyo"
      },
      "source": [
        "#### RAM Information"
      ]
    },
    {
      "cell_type": "code",
      "metadata": {
        "id": "NtwfTCCmT07H"
      },
      "source": [
        "! cat /proc/meminfo"
      ],
      "execution_count": null,
      "outputs": []
    },
    {
      "cell_type": "code",
      "metadata": {
        "id": "E4J60ooTUdbX"
      },
      "source": [
        ""
      ],
      "execution_count": null,
      "outputs": []
    },
    {
      "cell_type": "markdown",
      "metadata": {
        "id": "ejS1-fnLUlZE"
      },
      "source": [
        "#### CPU Information"
      ]
    },
    {
      "cell_type": "code",
      "metadata": {
        "id": "5L7rHLFEUoMQ"
      },
      "source": [
        "!cat /proc/cpuinfo"
      ],
      "execution_count": null,
      "outputs": []
    },
    {
      "cell_type": "markdown",
      "metadata": {
        "id": "ZszOyJJ5U-Tf"
      },
      "source": [
        "#### Mounting drive"
      ]
    },
    {
      "cell_type": "code",
      "metadata": {
        "id": "Kj2j8OHDUuF0"
      },
      "source": [
        "from google.colab import drive\n",
        "drive.mount('/content/drive')"
      ],
      "execution_count": null,
      "outputs": []
    },
    {
      "cell_type": "code",
      "metadata": {
        "id": "xqzHVXXJ7_Ga"
      },
      "source": [
        "pip install scikit-learn==0.21.2"
      ],
      "execution_count": null,
      "outputs": []
    },
    {
      "cell_type": "markdown",
      "metadata": {
        "id": "P7gn2D9cWVgO"
      },
      "source": [
        "#### Installing Libraries"
      ]
    },
    {
      "cell_type": "code",
      "metadata": {
        "id": "xJKoIxaYWfPn"
      },
      "source": [
        "import pandas as pd\n",
        "import numpy as np\n",
        "import seaborn as sns\n",
        "import matplotlib.pyplot as plt\n",
        "%matplotlib inline"
      ],
      "execution_count": null,
      "outputs": []
    },
    {
      "cell_type": "code",
      "metadata": {
        "id": "fRperMb4tmyH"
      },
      "source": [
        "pd.options.display.max_rows=None\n",
        "pd.options.display.max_columns=None\n",
        "sns.set_style('darkgrid')"
      ],
      "execution_count": null,
      "outputs": []
    },
    {
      "cell_type": "code",
      "metadata": {
        "id": "Ux9XirtSWqNh"
      },
      "source": [
        "data=pd.read_csv('/content/drive/MyDrive/Churn_Modelling/Churn_Modelling.csv')\n",
        "df=data.copy()\n",
        "print(f'Shape of data is : {df.shape}')"
      ],
      "execution_count": null,
      "outputs": []
    },
    {
      "cell_type": "code",
      "metadata": {
        "id": "gXmUxtL5XFtW"
      },
      "source": [
        "df.head()"
      ],
      "execution_count": null,
      "outputs": []
    },
    {
      "cell_type": "code",
      "metadata": {
        "id": "tgV_EQ-wt7cP"
      },
      "source": [
        "for i in df.columns:\n",
        "  print(f'{i}    :    {df[i].nunique()} values')"
      ],
      "execution_count": null,
      "outputs": []
    },
    {
      "cell_type": "markdown",
      "metadata": {
        "id": "JZAXLg0suNx3"
      },
      "source": [
        "Since RowNumber and Customerid are unique for all cases so we can drop them and Surname has too many categories so it also won't have that much impact over target"
      ]
    },
    {
      "cell_type": "code",
      "metadata": {
        "id": "mcfC2BDcuFYY"
      },
      "source": [
        "X=df.iloc[:,3:13]\n",
        "Y=df.iloc[:,-1]"
      ],
      "execution_count": null,
      "outputs": []
    },
    {
      "cell_type": "code",
      "metadata": {
        "id": "5WLauPJhuwZX"
      },
      "source": [
        "X.head()"
      ],
      "execution_count": null,
      "outputs": []
    },
    {
      "cell_type": "code",
      "metadata": {
        "id": "RNL9uIO-ux49"
      },
      "source": [
        "Y.head()"
      ],
      "execution_count": null,
      "outputs": []
    },
    {
      "cell_type": "code",
      "metadata": {
        "id": "mQCN5-Xfu2aZ"
      },
      "source": [
        "X_cat=[i for i in X.columns if df[i].dtypes == 'O']\n",
        "X_cat"
      ],
      "execution_count": null,
      "outputs": []
    },
    {
      "cell_type": "code",
      "metadata": {
        "id": "TrHCO7pWvDKu"
      },
      "source": [
        "X_num=[i for i in X.columns if i not in X_cat]\n",
        "X_num"
      ],
      "execution_count": null,
      "outputs": []
    },
    {
      "cell_type": "code",
      "metadata": {
        "id": "sMukb0SlvM68"
      },
      "source": [
        "X_cat_enc=pd.get_dummies(df[X_cat], drop_first=True)\n",
        "X_cat_enc.head()"
      ],
      "execution_count": null,
      "outputs": []
    },
    {
      "cell_type": "code",
      "metadata": {
        "id": "Zd8e__ryvddv"
      },
      "source": [
        "X=pd.concat([X_cat_enc, X[X_num]], axis=1)\n",
        "X.head()"
      ],
      "execution_count": null,
      "outputs": []
    },
    {
      "cell_type": "markdown",
      "metadata": {
        "id": "zF1dwvVhwQXe"
      },
      "source": [
        "Splitting into train test set"
      ]
    },
    {
      "cell_type": "code",
      "metadata": {
        "id": "fY_ZjqOCv3BR"
      },
      "source": [
        "from sklearn.model_selection import train_test_split"
      ],
      "execution_count": null,
      "outputs": []
    },
    {
      "cell_type": "code",
      "metadata": {
        "id": "f_475RhUwfeE"
      },
      "source": [
        "x_train,x_test,y_train,y_test =train_test_split(X,Y,test_size=0.3, random_state=0)"
      ],
      "execution_count": null,
      "outputs": []
    },
    {
      "cell_type": "code",
      "metadata": {
        "id": "rVhNcIl0xIen"
      },
      "source": [
        "print(f'Shape of x_train : {x_train.shape}')\n",
        "print(f'Shape of x_test : {x_test.shape}')\n",
        "print(f'Shape of y_train : {y_train.shape}')\n",
        "print(f'Shape of y_test : {y_test.shape}')"
      ],
      "execution_count": null,
      "outputs": []
    },
    {
      "cell_type": "markdown",
      "metadata": {
        "id": "ZaHISrwYxkhP"
      },
      "source": [
        "Feature Scaling"
      ]
    },
    {
      "cell_type": "code",
      "metadata": {
        "id": "LINoGZu4xkD3"
      },
      "source": [
        "from sklearn.preprocessing import StandardScaler\n",
        "scaler=StandardScaler()"
      ],
      "execution_count": null,
      "outputs": []
    },
    {
      "cell_type": "code",
      "metadata": {
        "id": "VIDk7prjx4Q7"
      },
      "source": [
        "scaler.fit(x_train)"
      ],
      "execution_count": null,
      "outputs": []
    },
    {
      "cell_type": "code",
      "metadata": {
        "id": "KabLsRD2x8eP"
      },
      "source": [
        "X_train=scaler.transform(x_train)\n",
        "X_test =scaler.transform(x_test)"
      ],
      "execution_count": null,
      "outputs": []
    },
    {
      "cell_type": "markdown",
      "metadata": {
        "id": "6dbKmHXXyRly"
      },
      "source": [
        "Model Creation"
      ]
    },
    {
      "cell_type": "code",
      "metadata": {
        "id": "8sRWDijYyPX-"
      },
      "source": [
        "from tensorflow.keras.models import Sequential\n",
        "from tensorflow.keras.layers import Dense, Dropout"
      ],
      "execution_count": null,
      "outputs": []
    },
    {
      "cell_type": "code",
      "metadata": {
        "id": "M2sgpmaIymaj"
      },
      "source": [
        "model = Sequential()\n",
        "model.add(Dense(units=8,activation='relu', kernel_initializer='he_normal',input_dim=X_train.shape[1] ))\n",
        "model.add(Dense(units=8, activation='relu', kernel_initializer='he_normal'))\n",
        "model.add(Dense(units=8, activation='sigmoid', kernel_initializer='glorot_normal'))\n",
        "model.add(Dense(units=1))"
      ],
      "execution_count": null,
      "outputs": []
    },
    {
      "cell_type": "code",
      "metadata": {
        "id": "Zp5ZXZLyzqRD"
      },
      "source": [
        "model.compile(optimizer='Adam', loss='binary_crossentropy', metrics=['accuracy'])"
      ],
      "execution_count": null,
      "outputs": []
    },
    {
      "cell_type": "code",
      "metadata": {
        "id": "7gwReVvE0CWb"
      },
      "source": [
        "model.fit(X_train, y_train, batch_size=70, epochs=150)"
      ],
      "execution_count": null,
      "outputs": []
    },
    {
      "cell_type": "code",
      "metadata": {
        "id": "hMTia5wY0ly_"
      },
      "source": [
        "y_pred=model.predict(X_test)"
      ],
      "execution_count": null,
      "outputs": []
    },
    {
      "cell_type": "code",
      "metadata": {
        "id": "eySgQq1e0O8b"
      },
      "source": [
        "predictions=y_pred > 0.5\n"
      ],
      "execution_count": null,
      "outputs": []
    },
    {
      "cell_type": "code",
      "metadata": {
        "id": "_9sspGoi0slN"
      },
      "source": [
        "from sklearn.metrics import confusion_matrix, classification_report,accuracy_score"
      ],
      "execution_count": null,
      "outputs": []
    },
    {
      "cell_type": "code",
      "metadata": {
        "id": "fkooanEs05OZ"
      },
      "source": [
        "confusion_matrix(y_test, predictions)"
      ],
      "execution_count": null,
      "outputs": []
    },
    {
      "cell_type": "code",
      "metadata": {
        "id": "xbTgBIyI0-Zp"
      },
      "source": [
        "print(classification_report(y_test, predictions))"
      ],
      "execution_count": null,
      "outputs": []
    },
    {
      "cell_type": "code",
      "metadata": {
        "id": "6pd3sOb61Cnd"
      },
      "source": [
        "accuracy_score(y_test, predictions)"
      ],
      "execution_count": null,
      "outputs": []
    },
    {
      "cell_type": "markdown",
      "metadata": {
        "id": "OQPdT3tN1V_Q"
      },
      "source": [
        "Hyper parameter tuning"
      ]
    },
    {
      "cell_type": "code",
      "metadata": {
        "id": "hQz4O_x11YN5"
      },
      "source": [
        "from tensorflow.keras.wrappers.scikit_learn import KerasClassifier\n",
        "from sklearn.model_selection import GridSearchCV"
      ],
      "execution_count": null,
      "outputs": []
    },
    {
      "cell_type": "code",
      "metadata": {
        "id": "fIYTBCeq1mN-"
      },
      "source": [
        "def create_model(layers, activation):\n",
        "  model=Sequential()\n",
        "  for i,layer in enumerate(layers):\n",
        "    if i==0:\n",
        "      model.add(Dense(units=layer, activation=activation,input_dim=X_train.shape[1]))\n",
        "      model.add(Dropout(0.3))\n",
        "    else:\n",
        "      model.add(Dense(units=layer, activation=activation))\n",
        "      model.add(Dropout(0.3))\n",
        "    model.compile(optimizer='Adam', loss='binary_crossentropy', metrics=['accuracy'])\n",
        "    return model\n",
        "model = KerasClassifier(build_fn=create_model, verbose=0)"
      ],
      "execution_count": null,
      "outputs": []
    },
    {
      "cell_type": "code",
      "metadata": {
        "id": "XI9zrVEb6znn"
      },
      "source": [
        "model"
      ],
      "execution_count": null,
      "outputs": []
    },
    {
      "cell_type": "code",
      "metadata": {
        "id": "ASKNI50J4As9"
      },
      "source": [
        "layers=[[20], [15,20], [15, 20, 25]]\n",
        "activation=['sigmoid', 'relu']"
      ],
      "execution_count": null,
      "outputs": []
    },
    {
      "cell_type": "code",
      "metadata": {
        "id": "zSbDGH8m4qAY"
      },
      "source": [
        "param_grid=dict(layers=layers,activation=activation, batch_size=[128,256], epochs=[75,100,125])"
      ],
      "execution_count": null,
      "outputs": []
    },
    {
      "cell_type": "code",
      "metadata": {
        "id": "Jmp9fOXk5FFO"
      },
      "source": [
        "param_grid"
      ],
      "execution_count": null,
      "outputs": []
    },
    {
      "cell_type": "code",
      "metadata": {
        "id": "YY_9f_Xn5IRF"
      },
      "source": [
        "grid=GridSearchCV(estimator=model, param_grid=param_grid )\n",
        "my_grid=grid.fit(X_train,y_train)"
      ],
      "execution_count": null,
      "outputs": []
    },
    {
      "cell_type": "code",
      "metadata": {
        "id": "2z8zDWSn-rxB"
      },
      "source": [
        "my_grid.best_score_"
      ],
      "execution_count": null,
      "outputs": []
    },
    {
      "cell_type": "code",
      "metadata": {
        "id": "-S9cs7lrX4Ym"
      },
      "source": [
        "my_grid.best_params_"
      ],
      "execution_count": null,
      "outputs": []
    },
    {
      "cell_type": "markdown",
      "metadata": {
        "id": "0GPA8jZFYIa2"
      },
      "source": [
        "Creating New Model"
      ]
    },
    {
      "cell_type": "code",
      "metadata": {
        "id": "pQDtAr54X7vb"
      },
      "source": [
        "model_new=Sequential()\n",
        "model_new.add(Dense(units=15, activation='relu', kernel_initializer='he_uniform', input_dim=X_train.shape[1]))\n",
        "model_new.add(Dense(units=20, activation='relu', kernel_initializer='he_uniform'))\n",
        "model_new.add(Dense(units=25, activation='relu', kernel_initializer='he_uniform'))\n",
        "model_new.add(Dense(units=1, activation='sigmoid', kernel_initializer='glorot_uniform'))\n",
        "\n",
        "model_new.compile(optimizer='Adam', loss='binary_crossentropy', metrics=['accuracy'])"
      ],
      "execution_count": null,
      "outputs": []
    },
    {
      "cell_type": "code",
      "metadata": {
        "id": "wUK0nZaCYAQg"
      },
      "source": [
        "model_new.fit(X_train,y_train, validation_split=0.2,epochs=100, batch_size=256)"
      ],
      "execution_count": null,
      "outputs": []
    }
  ]
}